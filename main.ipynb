{
 "cells": [
  {
   "cell_type": "markdown",
   "id": "553d29c6-ee03-4e3b-8e91-06fcb7894fed",
   "metadata": {},
   "source": [
    "# HOUSE PRICE PREDICTION"
   ]
  },
  {
   "cell_type": "code",
   "execution_count": 42,
   "id": "84a75c78-525e-4c7b-a974-ed6f783b4b73",
   "metadata": {},
   "outputs": [],
   "source": [
    "# Libraries\n",
    "import os\n",
    "import cv2\n",
    "import numpy as np\n",
    "import pandas as pd\n",
    "from sklearn.model_selection import train_test_split\n",
    "from sklearn.preprocessing import MinMaxScaler\n",
    "import matplotlib.pyplot as plt\n",
    "\n",
    "from tensorflow import keras\n",
    "from tensorflow.keras import layers\n",
    "from keras import Model\n",
    "from sklearn.metrics import r2_score\n",
    "from sklearn.metrics import mean_squared_error\n",
    "from keras.metrics import RootMeanSquaredError\n",
    "from keras.layers import concatenate\n"
   ]
  },
  {
   "cell_type": "markdown",
   "id": "8d0c06b3-20a4-49f9-a212-d9c27b32eaa6",
   "metadata": {},
   "source": [
    "## Import Image Data"
   ]
  },
  {
   "cell_type": "code",
   "execution_count": 3,
   "id": "3ae2fcbe-d93f-4f14-a31d-ae2344b9dae5",
   "metadata": {},
   "outputs": [
    {
     "name": "stdout",
     "output_type": "stream",
     "text": [
      "Images processed\n"
     ]
    }
   ],
   "source": [
    "image_path = \"C:/Users/KIIT/Prerak/Prerak_Code/IoT Lab/week_3/Houses Dataset\"\n",
    "images_name = []\n",
    "for i in os.listdir(image_path):\n",
    "    if i[-3:] == \"jpg\":\n",
    "        images_name.append(i)\n",
    "        \n",
    "j = 0\n",
    "temp_store = []\n",
    "combined_images = []\n",
    "combined_images_index = []\n",
    "\n",
    "for i in images_name:\n",
    "    image = cv2.imread(image_path + \"/\" + i)\n",
    "    image = cv2.resize(image,(32,32))\n",
    "    temp_store.append(image)\n",
    "    j+=1\n",
    "    if (j == 4):\n",
    "        combined = np.zeros((64,64,3), dtype = \"uint8\") #uint-8 as image to array is in range 0-255\n",
    "        combined[0:32, 0:32] = temp_store[0]\n",
    "        combined[0:32, 32:64] = temp_store[1]\n",
    "        combined[32:64, 0:32] = temp_store[2]\n",
    "        combined[32:64, 32:64] = temp_store[3]\n",
    "        temp_store = []\n",
    "        j = 0\n",
    "        combined_images.append(combined)\n",
    "        combined_images_index.append(i[:i.index(\"_\")])\n",
    "print(\"Images processed\")"
   ]
  },
  {
   "cell_type": "code",
   "execution_count": 63,
   "id": "63a8248e-f4aa-403c-9a27-b4e720c0bc7f",
   "metadata": {},
   "outputs": [
    {
     "name": "stdout",
     "output_type": "stream",
     "text": [
      "[[[129 147 158]\n",
      "  [132 147 159]\n",
      "  [135 148 160]\n",
      "  ...\n",
      "  [173 178 179]\n",
      "  [182 187 188]\n",
      "  [190 195 196]]\n",
      "\n",
      " [[129 145 157]\n",
      "  [131 144 156]\n",
      "  [129 143 153]\n",
      "  ...\n",
      "  [195 201 200]\n",
      "  [197 203 202]\n",
      "  [195 201 200]]\n",
      "\n",
      " [[137 149 159]\n",
      "  [135 148 156]\n",
      "  [134 144 153]\n",
      "  ...\n",
      "  [200 206 205]\n",
      "  [191 197 196]\n",
      "  [184 193 190]]\n",
      "\n",
      " ...\n",
      "\n",
      " [[161 162 182]\n",
      "  [158 160 178]\n",
      "  [156 160 179]\n",
      "  ...\n",
      "  [ 29  79 125]\n",
      "  [  5  57 115]\n",
      "  [  5  57 117]]\n",
      "\n",
      " [[159 165 179]\n",
      "  [158 158 174]\n",
      "  [  6  34  53]\n",
      "  ...\n",
      "  [141 165 184]\n",
      "  [136 167 189]\n",
      "  [  4  61 124]]\n",
      "\n",
      " [[ 49  98 101]\n",
      "  [ 45  77  80]\n",
      "  [ 19  54  55]\n",
      "  ...\n",
      "  [120 151 175]\n",
      "  [136 166 187]\n",
      "  [  7  52 109]]]\n",
      "535\n",
      "[[[129 147 158]\n",
      "  [132 147 159]\n",
      "  [135 148 160]\n",
      "  ...\n",
      "  [173 178 179]\n",
      "  [182 187 188]\n",
      "  [190 195 196]]\n",
      "\n",
      " [[129 145 157]\n",
      "  [131 144 156]\n",
      "  [129 143 153]\n",
      "  ...\n",
      "  [195 201 200]\n",
      "  [197 203 202]\n",
      "  [195 201 200]]\n",
      "\n",
      " [[137 149 159]\n",
      "  [135 148 156]\n",
      "  [134 144 153]\n",
      "  ...\n",
      "  [200 206 205]\n",
      "  [191 197 196]\n",
      "  [184 193 190]]\n",
      "\n",
      " ...\n",
      "\n",
      " [[161 162 182]\n",
      "  [158 160 178]\n",
      "  [156 160 179]\n",
      "  ...\n",
      "  [ 29  79 125]\n",
      "  [  5  57 115]\n",
      "  [  5  57 117]]\n",
      "\n",
      " [[159 165 179]\n",
      "  [158 158 174]\n",
      "  [  6  34  53]\n",
      "  ...\n",
      "  [141 165 184]\n",
      "  [136 167 189]\n",
      "  [  4  61 124]]\n",
      "\n",
      " [[ 49  98 101]\n",
      "  [ 45  77  80]\n",
      "  [ 19  54  55]\n",
      "  ...\n",
      "  [120 151 175]\n",
      "  [136 166 187]\n",
      "  [  7  52 109]]]\n"
     ]
    }
   ],
   "source": [
    "print(combined_images[0])\n",
    "combined_images_array = np.array(combined_images)\n",
    "print(len(combined_images_array))\n",
    "print(combined_images_array[0])"
   ]
  },
  {
   "cell_type": "code",
   "execution_count": 26,
   "id": "59c679d4-a503-4759-852b-cb4b9bac3196",
   "metadata": {},
   "outputs": [
    {
     "name": "stdout",
     "output_type": "stream",
     "text": [
      "100_bathroom.jpg 100 ,101_bathroom.jpg 101 ,102_bathroom.jpg 102 ,103_bathroom.jpg 103 ,104_bathroom.jpg 104 ,105_bathroom.jpg 105 ,106_bathroom.jpg 106 ,107_bathroom.jpg 107 ,108_bathroom.jpg 108 ,109_bathroom.jpg 109 ,10_bathroom.jpg 10 ,"
     ]
    }
   ],
   "source": [
    "j = 0\n",
    "for i in range(0,11):\n",
    "    print(images_name[j], combined_images_index[i], end = \" ,\")\n",
    "    j += 4"
   ]
  },
  {
   "cell_type": "markdown",
   "id": "437d4a05-90f0-4f8d-8503-3dc8f0990cef",
   "metadata": {},
   "source": [
    "## Import Numerical Data"
   ]
  },
  {
   "cell_type": "code",
   "execution_count": 6,
   "id": "c1ce2ecd-a092-40ae-a659-faf3748fe6fb",
   "metadata": {},
   "outputs": [],
   "source": [
    "data_path = image_path = \"C:/Users/KIIT/Prerak/Prerak_Code/IoT Lab/week_3/Houses Dataset/HousesInfo.txt\"\n",
    "columns = [\"bedrooms\", \"bathrooms\", \"area\", \"zipcode\", \"price\"]\n",
    "df = pd.read_csv(data_path,sep = ' ', names = columns)\n",
    "df = df.dropna()"
   ]
  },
  {
   "cell_type": "markdown",
   "id": "4a4574c5-45be-4db9-b8ca-4849996d6817",
   "metadata": {},
   "source": [
    "## Pre-Processing Numerical Data"
   ]
  },
  {
   "cell_type": "code",
   "execution_count": 7,
   "id": "6a02ce16-a718-4634-ac9e-3c8ec84bbc33",
   "metadata": {},
   "outputs": [],
   "source": [
    "df_ohe = pd.get_dummies(df, columns = [\"zipcode\"])"
   ]
  },
  {
   "cell_type": "code",
   "execution_count": 8,
   "id": "85895c5e-c170-44b1-94e9-3a3c2a2f3368",
   "metadata": {},
   "outputs": [
    {
     "name": "stdout",
     "output_type": "stream",
     "text": [
      "0      869500\n",
      "1      865200\n",
      "2      889000\n",
      "3      910000\n",
      "4      971226\n",
      "        ...  \n",
      "530    399900\n",
      "531    460000\n",
      "532    407000\n",
      "533    419000\n",
      "534    615000\n",
      "Name: price, Length: 535, dtype: int64\n"
     ]
    },
    {
     "data": {
      "image/png": "[encoded data removed]",
      "text/plain": [
       "<Figure size 432x288 with 1 Axes>"
      ]
     },
     "metadata": {
      "needs_background": "light"
     },
     "output_type": "display_data"
    }
   ],
   "source": [
    "print(df_ohe.iloc[:, 3])\n",
    "s = df_ohe.iloc[:, 3]\n",
    "plt.scatter( range(535), df_ohe.iloc[:, 3])\n",
    "plt.show()"
   ]
  },
  {
   "cell_type": "code",
   "execution_count": 9,
   "id": "adf22bc3-5772-407b-8e6a-8fa3593b76d0",
   "metadata": {},
   "outputs": [],
   "source": [
    "text_train, text_test, train_images, test_images = train_test_split(df_ohe, combined_images_array,test_size = 0.20, random_state = 78)\n",
    "\n",
    "max_price = max(text_train[\"price\"])\n",
    "\n",
    "y_train = text_train.iloc[:,3].values\n",
    "y_test = text_test.iloc[:,3].values\n",
    "text_train = text_train.drop([\"price\"],axis = 1)\n",
    "text_test = text_test.drop([\"price\"],axis = 1)\n",
    "X_train = text_train.iloc[:,:].values\n",
    "X_test  = text_test.iloc[:,:].values\n",
    "\n",
    "min_max_scaler = MinMaxScaler()\n",
    "min_max_scaler.fit(X_train)\n",
    "X_train = min_max_scaler.transform(X_train)\n",
    "X_test = min_max_scaler.transform(X_test)"
   ]
  },
  {
   "cell_type": "code",
   "execution_count": 10,
   "id": "e5ccb950-0f7e-4db1-9cdd-162e1b693b21",
   "metadata": {},
   "outputs": [],
   "source": [
    "train_images = train_images /255.0\n",
    "test_images  = test_images /255.0\n",
    "y_train = y_train / max_price\n",
    "y_test = y_test / max_price"
   ]
  },
  {
   "cell_type": "code",
   "execution_count": 68,
   "id": "3ea87f7f-8695-42a3-a455-f94d8d118525",
   "metadata": {
    "tags": []
   },
   "outputs": [],
   "source": [
    "# TEXT BASED MODEL\n",
    "def Text_NN():\n",
    "\tmodel_tf = keras.Sequential([\n",
    "    layers.Dense(64, activation='relu', input_shape=[X_train.shape[1]]), # NN layer\n",
    "    layers.Dense(4, activation='relu', kernel_regularizer='l2'), # NN layer\n",
    "])\n",
    "#kernel_regularizer='l2'\n",
    "\treturn model_tf\n"
   ]
  },
  {
   "cell_type": "code",
   "execution_count": 82,
   "id": "33a39d65-80e1-4205-a8ef-1b63d0bb0735",
   "metadata": {},
   "outputs": [
    {
     "name": "stdout",
     "output_type": "stream",
     "text": [
      "(107, 64, 64, 3)\n"
     ]
    }
   ],
   "source": [
    "def Image_NN():\n",
    "    model_im = keras.models.Sequential([\n",
    "    keras.layers.Conv2D(filters=32, kernel_size=(11,11), activation='relu', input_shape=(64,64,3)),\n",
    "    keras.layers.BatchNormalization(),\n",
    "    keras.layers.MaxPool2D(pool_size=(3,3)),\n",
    "    keras.layers.Conv2D(filters=32, kernel_size=(5,5), activation='relu', padding=\"same\"),\n",
    "    keras.layers.BatchNormalization(),\n",
    "    keras.layers.MaxPool2D(pool_size=(3,3)),\n",
    "    keras.layers.Conv2D(filters=64, kernel_size=(3,3), activation='relu', padding=\"same\"),\n",
    "    keras.layers.BatchNormalization(),\n",
    "    keras.layers.Conv2D(filters=128, kernel_size=(3,3), activation='relu', padding=\"same\"),\n",
    "    keras.layers.BatchNormalization(),\n",
    "    keras.layers.Conv2D(filters=256, kernel_size=(3,3), activation='relu', padding=\"same\"),\n",
    "    keras.layers.BatchNormalization(),\n",
    "    keras.layers.MaxPool2D(pool_size=(3,3)),\n",
    "    keras.layers.Flatten(),\n",
    "    keras.layers.Dense(1024, activation='relu'),\n",
    "    keras.layers.Dropout(0.5),\n",
    "    keras.layers.Dense(512, activation='relu'),\n",
    "    keras.layers.Dropout(0.5),\n",
    "    keras.layers.Dense(4, activation='relu')\n",
    "])\n",
    "\n",
    "\n",
    "    return model_im\n",
    "\n",
    "print(test_images.shape)"
   ]
  },
  {
   "cell_type": "code",
   "execution_count": 70,
   "id": "b6730de0-7488-4ba8-9a11-d016847dfc23",
   "metadata": {},
   "outputs": [
    {
     "name": "stdout",
     "output_type": "stream",
     "text": [
      "Epoch 1/25\n",
      "11/11 [==============================] - 7s 615ms/step - loss: 1.1072 - r2_score: -126.1475 - val_loss: 0.1432 - val_r2_score: -1.4597\n",
      "Epoch 2/25\n",
      "11/11 [==============================] - 7s 600ms/step - loss: 0.0986 - r2_score: -2.0856 - val_loss: 0.1378 - val_r2_score: -1.3465\n",
      "Epoch 3/25\n",
      "11/11 [==============================] - 7s 601ms/step - loss: 0.0929 - r2_score: -1.9102 - val_loss: 0.1310 - val_r2_score: -1.1951\n",
      "Epoch 4/25\n",
      "11/11 [==============================] - 7s 674ms/step - loss: 0.0864 - r2_score: -1.5016 - val_loss: 0.1235 - val_r2_score: -1.0230\n",
      "Epoch 5/25\n",
      "11/11 [==============================] - 9s 798ms/step - loss: 0.0799 - r2_score: -1.1553 - val_loss: 0.1165 - val_r2_score: -0.8454\n",
      "Epoch 6/25\n",
      "11/11 [==============================] - 8s 746ms/step - loss: 0.0740 - r2_score: -0.9639 - val_loss: 0.1110 - val_r2_score: -0.7365\n",
      "Epoch 7/25\n",
      "11/11 [==============================] - 8s 750ms/step - loss: 0.0694 - r2_score: -0.7908 - val_loss: 0.1056 - val_r2_score: -0.6265\n",
      "Epoch 8/25\n",
      "11/11 [==============================] - 8s 733ms/step - loss: 0.0645 - r2_score: -0.7026 - val_loss: 0.1000 - val_r2_score: -0.5138\n",
      "Epoch 9/25\n",
      "11/11 [==============================] - 12s 1s/step - loss: 0.0594 - r2_score: -0.3775 - val_loss: 0.0941 - val_r2_score: -0.3892\n",
      "Epoch 10/25\n",
      "11/11 [==============================] - 12s 1s/step - loss: 0.0541 - r2_score: -0.1793 - val_loss: 0.0876 - val_r2_score: -0.2285\n",
      "Epoch 11/25\n",
      "11/11 [==============================] - 13s 1s/step - loss: 0.0491 - r2_score: 0.0484 - val_loss: 0.0819 - val_r2_score: -0.1065\n",
      "Epoch 12/25\n",
      "11/11 [==============================] - 13s 1s/step - loss: 0.0450 - r2_score: 0.2338 - val_loss: 0.0769 - val_r2_score: -0.0322\n",
      "Epoch 13/25\n",
      "11/11 [==============================] - 9s 866ms/step - loss: 0.0415 - r2_score: 0.3205 - val_loss: 0.0731 - val_r2_score: 0.0090\n",
      "Epoch 14/25\n",
      "11/11 [==============================] - 9s 780ms/step - loss: 0.0386 - r2_score: 0.4605 - val_loss: 0.0699 - val_r2_score: 0.0405\n",
      "Epoch 15/25\n",
      "11/11 [==============================] - 10s 876ms/step - loss: 0.0361 - r2_score: 0.4876 - val_loss: 0.0671 - val_r2_score: 0.0664\n",
      "Epoch 16/25\n",
      "11/11 [==============================] - 9s 808ms/step - loss: 0.0337 - r2_score: 0.5054 - val_loss: 0.0640 - val_r2_score: 0.1081\n",
      "Epoch 17/25\n",
      "11/11 [==============================] - 9s 794ms/step - loss: 0.0315 - r2_score: 0.5471 - val_loss: 0.0612 - val_r2_score: 0.1475\n",
      "Epoch 18/25\n",
      "11/11 [==============================] - 8s 760ms/step - loss: 0.0295 - r2_score: 0.5669 - val_loss: 0.0591 - val_r2_score: 0.1638\n",
      "Epoch 19/25\n",
      "11/11 [==============================] - 8s 767ms/step - loss: 0.0276 - r2_score: 0.6016 - val_loss: 0.0568 - val_r2_score: 0.1931\n",
      "Epoch 20/25\n",
      "11/11 [==============================] - 9s 796ms/step - loss: 0.0260 - r2_score: 0.6422 - val_loss: 0.0548 - val_r2_score: 0.2155\n",
      "Epoch 21/25\n",
      "11/11 [==============================] - 8s 773ms/step - loss: 0.0244 - r2_score: 0.6349 - val_loss: 0.0532 - val_r2_score: 0.2275\n",
      "Epoch 22/25\n",
      "11/11 [==============================] - 9s 789ms/step - loss: 0.0230 - r2_score: 0.6427 - val_loss: 0.0516 - val_r2_score: 0.2411\n",
      "Epoch 23/25\n",
      "11/11 [==============================] - 10s 885ms/step - loss: 0.0218 - r2_score: 0.6647 - val_loss: 0.0502 - val_r2_score: 0.2518\n",
      "Epoch 24/25\n",
      "11/11 [==============================] - 8s 758ms/step - loss: 0.0206 - r2_score: 0.6682 - val_loss: 0.0488 - val_r2_score: 0.2623\n",
      "Epoch 25/25\n",
      "11/11 [==============================] - 8s 709ms/step - loss: 0.0195 - r2_score: 0.6716 - val_loss: 0.0477 - val_r2_score: 0.2684\n"
     ]
    },
    {
     "data": {
      "image/png": "[encoded data removed]",
      "text/plain": [
       "<Figure size 432x288 with 1 Axes>"
      ]
     },
     "metadata": {
      "needs_background": "light"
     },
     "output_type": "display_data"
    },
    {
     "data": {
      "image/png": "[encoded data removed]",
      "text/plain": [
       "<Figure size 432x288 with 1 Axes>"
      ]
     },
     "metadata": {
      "needs_background": "light"
     },
     "output_type": "display_data"
    }
   ],
   "source": [
    "Dense_NN = Text_NN()\n",
    "CNN = Image_NN()\n",
    "\n",
    "Multi_Input = concatenate([Dense_NN.output, CNN.output])\n",
    "\n",
    "End_Net = layers.Dense(4, activation = 'relu')(Multi_Input)\n",
    "End_Net = layers.Dense(1)(End_Net)\n",
    "\n",
    "model = Model(inputs = [Dense_NN.input , CNN.input], outputs = End_Net)\n",
    "\n",
    "# Compiling the model for the following optimizer, loss function, and metrics.\n",
    "optimizer = keras.optimizers.Adam(learning_rate=0.001)\n",
    "model.compile(\n",
    "    optimizer= optimizer,\n",
    "    loss=['mse'],\n",
    "    metrics=[r2_score],\n",
    "    run_eagerly=True\n",
    ")\n",
    "\n",
    "#Fitting the model\n",
    "history = model.fit(\n",
    "    [X_train, train_images], y_train, #Using Standard Scalar Data\n",
    "    validation_data=([X_test, test_images], y_test), #Using Standard Scalar Data\n",
    "    batch_size=41,\n",
    "    epochs=25,\n",
    ")\n",
    "\n",
    "#Creating graphs to visualize the loss and accuracy values to check for under-fitting and over-fitting \n",
    "history_df = pd.DataFrame(history.history)\n",
    "history_df.loc[:, ['loss', 'val_loss']].plot();\n",
    "history_df.loc[:, ['r2_score', 'val_r2_score']].plot();\n"
   ]
  },
  {
   "cell_type": "code",
   "execution_count": null,
   "id": "fd4c8cd8-20dd-496f-ae80-5790f2694914",
   "metadata": {},
   "outputs": [],
   "source": []
  }
 ],
 "metadata": {
  "kernelspec": {
   "display_name": "Python 3 (ipykernel)",
   "language": "python",
   "name": "python3"
  },
  "language_info": {
   "codemirror_mode": {
    "name": "ipython",
    "version": 3
   },
   "file_extension": ".py",
   "mimetype": "text/x-python",
   "name": "python",
   "nbconvert_exporter": "python",
   "pygments_lexer": "ipython3",
   "version": "3.8.5"
  }
 },
 "nbformat": 4,
 "nbformat_minor": 5
}
